{
  "nbformat": 4,
  "nbformat_minor": 0,
  "metadata": {
    "colab": {
      "provenance": []
    },
    "kernelspec": {
      "name": "python3",
      "display_name": "Python 3"
    },
    "language_info": {
      "name": "python"
    }
  },
  "cells": [
    {
      "cell_type": "markdown",
      "source": [
        "1.What is the difference between descriptive statistics and inferential\n",
        "statistics? Explain with examples.\n",
        "- - Descriptive statistics is the branch of statistics that is concerned with the collection, organization, summarization, and presentation of data.\n",
        "It describes the important features of a dataset without drawing conclusions or making predictions beyond the given data.\n",
        "\n",
        "  - Used in:\n",
        "     - Measures of central tendency (mean, median, mode) to indicate the average or central value.\n",
        "     - Measures of dispersion (range, variance, standard deviation) to describe the spread of data.\n",
        "     - Data representation tools such as tables, charts, and graphs.\n",
        "  - Example:If marks of 40 students are collected, descriptive statistics would summarize them by calculating the average marks, identifying the highest and lowest scores, and representing them in a histogram.\n",
        "  \n",
        "  - Inferential statistics is the branch of statistics that deals with making generalizations, predictions, or decisions about a population based on data collected from a sample of that population.\n",
        "   - Used in:\n",
        "     - Estimation: Point estimates and confidence intervals.\n",
        "     - Hypothesis testing: Testing claims about a population parameter using sample data.\n",
        "     - Statistical modeling: Regression and correlation to study relationships among variables.\n",
        "\n",
        "  - Example:Suppose we survey 200 college students to estimate the average height of all college students in India.Sample mean height = 167 cm With 95% confidence, the true mean height of the population lies between 165 cm and 169 cm.\n",
        "\n",
        "2.What is sampling in statistics? Explain the differences between random\n",
        "and stratified sampling.\n",
        "- Sampling in Statistics\n",
        "  - In statistics, sampling is the process of selecting a subset of individuals, items, or observations from a larger population, in such a way that the sample represents the characteristics of the whole population.\n",
        "  - Random Sampling\n",
        "    - Definition: In random sampling, every member of the population has an equal chance of being selected in the sample.\n",
        "\n",
        "  - Stratified Sampling\n",
        "      - Definition: In stratified sampling, the population is divided into homogeneous subgroups (called strata) based on specific characteristics such as age, gender, income, or education, and then random samples are taken from each stratum.\n",
        "\n",
        "3.Define mean, median, and mode. Explain why these measures of central\n",
        "tendency are important.\n",
        "- - The mean is the arithmetic average of all the values in a dataset.\n",
        "  - The median is the middle value of the dataset when the data is arranged in ascending or descending order.\n",
        "  - The mode is the value that occurs most frequently in a dataset\n",
        "\n",
        "  Data Summarization: They condense a large dataset into a single value, making interpretation easier.\n",
        "\n",
        "  Comparison: They allow comparison between different datasets (e.g., comparing average income across cities).\n",
        "\n",
        "  Decision-Making: They are widely used in economics, business, education, and research to support decisions.\n",
        "\n",
        "4.Explain skewness and kurtosis. What does a positive skew imply about the\n",
        "data?\n",
        "- Skewness\n",
        "   - Definition:Skewness is a statistical measure that describes the asymmetry of the distribution of data values around the mean.\n",
        "  \n",
        " - Kurtosis\n",
        "   - Definition:Kurtosis is a statistical measure that describes the “tailedness” or peakedness of a distribution compared to a normal distribution.  \n",
        "\n",
        "  - Positive skew means the data has a long right tail, with most values concentrated on the left and a few very large values pulling up the mean.\n",
        "\n",
        "5.Implement a Python program to compute the mean, median, and mode of\n",
        "a given list of numbers.\n",
        "numbers = [12, 15, 12, 18, 19, 12, 20, 22, 19, 19, 24, 24, 24, 26, 28]\n"
      ],
      "metadata": {
        "id": "aNHb2Adundqd"
      }
    },
    {
      "cell_type": "code",
      "source": [
        "import numpy as np\n",
        "from scipy import stats\n",
        "\n",
        "numbers = [12, 15, 12, 18, 19, 12, 20, 22, 19, 19, 24, 24, 24, 26, 28]\n",
        "\n",
        "data = np.array(numbers)\n",
        "\n",
        "mean_value = np.mean(data)\n",
        "median_value = np.median(data)\n",
        "mode_value = stats.mode(data, keepdims=True)\n",
        "\n",
        "print(\"Mean:\", mean_value)\n",
        "print(\"Median:\", median_value)\n",
        "print(\"Mode:\", mode_value.mode[0], \" (Count:\", mode_value.count[0], \")\")\n"
      ],
      "metadata": {
        "colab": {
          "base_uri": "https://localhost:8080/"
        },
        "id": "yhAbBAZSrUYa",
        "outputId": "dac47212-ade1-4356-8be1-fedfd8cf702c"
      },
      "execution_count": 1,
      "outputs": [
        {
          "output_type": "stream",
          "name": "stdout",
          "text": [
            "Mean: 19.6\n",
            "Median: 19.0\n",
            "Mode: 12  (Count: 3 )\n"
          ]
        }
      ]
    },
    {
      "cell_type": "markdown",
      "source": [
        "6.Compute the covariance and correlation coefficient between the following\n",
        "two datasets provided as lists in Python:\n",
        "list_x = [10, 20, 30, 40, 50]\n",
        "list_y = [15, 25, 35, 45, 60]\n"
      ],
      "metadata": {
        "id": "ueWnQmbkrmNB"
      }
    },
    {
      "cell_type": "code",
      "source": [
        "import numpy as np\n",
        "\n",
        "list_x = [10, 20, 30, 40, 50]\n",
        "list_y = [15, 25, 35, 45, 60]\n",
        "\n",
        "x = np.array(list_x)\n",
        "y = np.array(list_y)\n",
        "\n",
        "cov_matrix = np.cov(x, y, bias=False)\n",
        "cov_xy = cov_matrix[0, 1]\n",
        "\n",
        "corr_coef = np.corrcoef(x, y)[0, 1]\n",
        "\n",
        "print(\"Covariance:\", cov_xy)\n",
        "print(\"Correlation Coefficient:\", corr_coef)\n"
      ],
      "metadata": {
        "colab": {
          "base_uri": "https://localhost:8080/"
        },
        "id": "6nJl9NgRrlc8",
        "outputId": "39fb40b0-3f15-4581-9de5-405972b6d863"
      },
      "execution_count": 2,
      "outputs": [
        {
          "output_type": "stream",
          "name": "stdout",
          "text": [
            "Covariance: 275.0\n",
            "Correlation Coefficient: 0.995893206467704\n"
          ]
        }
      ]
    },
    {
      "cell_type": "markdown",
      "source": [
        "7.Write a Python script to draw a boxplot for the following numeric list and\n",
        "identify its outliers. Explain the result:\n",
        "data = [12, 14, 14, 15, 18, 19, 19, 21, 22, 22, 23, 23, 24, 26, 29, 35]\n"
      ],
      "metadata": {
        "id": "LVaoRl2lr6J0"
      }
    },
    {
      "cell_type": "code",
      "source": [
        "import numpy as np\n",
        "import matplotlib.pyplot as plt\n",
        "\n",
        "data = [12, 14, 14, 15, 18, 19, 19, 21, 22, 22, 23, 23, 24, 26, 29, 35]\n",
        "\n",
        "plt.boxplot(data, vert=False)\n",
        "plt.title(\"Boxplot of Data\")\n",
        "plt.xlabel(\"Values\")\n",
        "plt.show()\n",
        "\n",
        "Q1 = np.percentile(data, 25)\n",
        "Q3 = np.percentile(data, 75)\n",
        "IQR = Q3 - Q1\n",
        "\n",
        "lower_bound = Q1 - 1.5 * IQR\n",
        "upper_bound = Q3 + 1.5 * IQR\n",
        "\n",
        "\n",
        "outliers = [x for x in data if x < lower_bound or x > upper_bound]\n",
        "\n",
        "\n",
        "print(\"Q1 (25th percentile):\", Q1)\n",
        "print(\"Q3 (75th percentile):\", Q3)\n",
        "print(\"IQR:\", IQR)\n",
        "print(\"Lower Bound:\", lower_bound)\n",
        "print(\"Upper Bound:\", upper_bound)\n",
        "print(\"Outliers:\", outliers)\n"
      ],
      "metadata": {
        "colab": {
          "base_uri": "https://localhost:8080/",
          "height": 576
        },
        "id": "iKVFvr60rW4i",
        "outputId": "72f06d27-c278-4201-a928-23590dc52b65"
      },
      "execution_count": 3,
      "outputs": [
        {
          "output_type": "display_data",
          "data": {
            "text/plain": [
              "<Figure size 640x480 with 1 Axes>"
            ],
            "image/png": "[encoded data removed]"
          },
          "metadata": {}
        },
        {
          "output_type": "stream",
          "name": "stdout",
          "text": [
            "Q1 (25th percentile): 17.25\n",
            "Q3 (75th percentile): 23.25\n",
            "IQR: 6.0\n",
            "Lower Bound: 8.25\n",
            "Upper Bound: 32.25\n",
            "Outliers: [35]\n"
          ]
        }
      ]
    },
    {
      "cell_type": "markdown",
      "source": [
        "8.You are working as a data analyst in an e-commerce company. The\n",
        "marketing team wants to know if there is a relationship between advertising spend and\n",
        "daily sales.\n",
        "● Explain how you would use covariance and correlation to explore this\n",
        "relationship.\n",
        "● Write Python code to compute the correlation between the two lists:\n",
        "advertising_spend = [200, 250, 300, 400, 500]\n",
        "daily_sales = [2200, 2450, 2750, 3200, 4000]\n"
      ],
      "metadata": {
        "id": "jOy9K6KdsJLK"
      }
    },
    {
      "cell_type": "code",
      "source": [
        "import numpy as np\n",
        "\n",
        "\n",
        "advertising_spend = [200, 250, 300, 400, 500]\n",
        "daily_sales = [2200, 2450, 2750, 3200, 4000]\n",
        "\n",
        "x = np.array(advertising_spend)\n",
        "y = np.array(daily_sales)\n",
        "\n",
        "cov_matrix = np.cov(x, y, bias=False)\n",
        "cov_xy = cov_matrix[0, 1]\n",
        "\n",
        "corr_coef = np.corrcoef(x, y)[0, 1]\n",
        "\n",
        "print(\"Covariance:\", cov_xy)\n",
        "print(\"Correlation Coefficient:\", corr_coef)\n"
      ],
      "metadata": {
        "colab": {
          "base_uri": "https://localhost:8080/"
        },
        "id": "PYPCX9ggsH2Y",
        "outputId": "ad6a5e99-f90f-41ba-f75b-f6c048e283e2"
      },
      "execution_count": 4,
      "outputs": [
        {
          "output_type": "stream",
          "name": "stdout",
          "text": [
            "Covariance: 84875.0\n",
            "Correlation Coefficient: 0.9935824101653329\n"
          ]
        }
      ]
    },
    {
      "cell_type": "code",
      "source": [],
      "metadata": {
        "id": "aTO0ynJtsTLT"
      },
      "execution_count": null,
      "outputs": []
    }
  ]
}